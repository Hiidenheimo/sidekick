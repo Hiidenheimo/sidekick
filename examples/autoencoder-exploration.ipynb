{
 "cells": [
  {
   "cell_type": "markdown",
   "metadata": {},
   "source": [
    "# Exploring an auto-encoder for FashionMNIST\n",
    "An auto-encoder is a model that encodes some content (in this case an image), into a lower dimensional vector and then decodes it back to the original image. The encoder may be useful as a trained feature extractor. When evaluating the auto-encoder it is important to ensure the recreated content looks reasonable. This notebook shows an example of how one may visually inspect the recreated content from an auto-encoder.\n",
    "\n",
    "This example uses ipywidgets, which may be enabled by running:\n",
    "```\n",
    "jupyter nbextension enable --py widgetsnbextension\n",
    "```"
   ]
  },
  {
   "cell_type": "markdown",
   "metadata": {},
   "source": [
    "## Import dependencies for this notebook"
   ]
  },
  {
   "cell_type": "code",
   "execution_count": 1,
   "metadata": {},
   "outputs": [],
   "source": [
    "import urllib\n",
    "import zipfile\n",
    "\n",
    "import IPython.display as ipd\n",
    "import numpy as np\n",
    "import pandas as pd\n",
    "import sidekick\n",
    "from ipywidgets import interact_manual\n",
    "from PIL import Image"
   ]
  },
  {
   "cell_type": "markdown",
   "metadata": {},
   "source": [
    "## Download FashionMNIST\n",
    "Download FashionMNIST to a tempfile. For details including license please see: [knowledge-center/fashion-mnist](https://peltarion.com/knowledge-center/documentation/datasets-view/datasets-used-in-tutorials/fashion-mnist-dataset)"
   ]
  },
  {
   "cell_type": "code",
   "execution_count": 2,
   "metadata": {},
   "outputs": [],
   "source": [
    "fashion_mnist_path, _ = urllib.request.urlretrieve(\n",
    "    'https://storage.googleapis.com/bucket-8732/fashion.zip')"
   ]
  },
  {
   "cell_type": "markdown",
   "metadata": {},
   "source": [
    "## Extract content from the dataset into a DataFrame"
   ]
  },
  {
   "cell_type": "code",
   "execution_count": 3,
   "metadata": {},
   "outputs": [],
   "source": [
    "# Open Peltarion platform compatible zipfile\n",
    "with zipfile.ZipFile(fashion_mnist_path, 'r') as z:\n",
    "    index_file = z.open('index.csv')\n",
    "    dataset = pd.read_csv(index_file)\n",
    "    dataset['image'] = dataset['image'].apply(\n",
    "        lambda path: Image.open(z.open(path))\n",
    "    )"
   ]
  },
  {
   "cell_type": "markdown",
   "metadata": {},
   "source": [
    "## Connect to the auto-encoder\n",
    "This auto-encoder takes both as in and output feature a greyscale image of shape 28x28 (i.e. matching the size of FashionMNIST images)."
   ]
  },
  {
   "cell_type": "code",
   "execution_count": 4,
   "metadata": {},
   "outputs": [],
   "source": [
    "deployment = sidekick.Deployment(\n",
    "    url='<url>',\n",
    "    token='<token>',\n",
    "    dtypes_in={'image': 'Image (28x28x1)'},\n",
    "    dtypes_out={'image': 'Image (28x28x1)'}\n",
    ")"
   ]
  },
  {
   "cell_type": "markdown",
   "metadata": {},
   "source": [
    "## Create a generator which polls the deployment\n",
    "For interactive exploration of data it us useful to use the predict_lazy method, which returns a generator that lazily polls the deployment when needed. Sidekick will make sure to batch requests to the deployment."
   ]
  },
  {
   "cell_type": "code",
   "execution_count": 5,
   "metadata": {},
   "outputs": [],
   "source": [
    "# Get predictions for all images in dataset\n",
    "predictions = deployment.predict_lazy(dataset.to_dict('records'))"
   ]
  },
  {
   "cell_type": "markdown",
   "metadata": {},
   "source": [
    "## Visualize a grid of output\n",
    "Set the desired grid size and press `Run interact` to get a new grid of examples."
   ]
  },
  {
   "cell_type": "code",
   "execution_count": 6,
   "metadata": {},
   "outputs": [
    {
     "data": {
      "application/vnd.jupyter.widget-view+json": {
       "model_id": "b7e641db1e1f47f5aec8a1c559e19e6f",
       "version_major": 2,
       "version_minor": 0
      },
      "text/plain": [
       "interactive(children=(IntSlider(value=5, description='n_rows', max=10, min=1), IntSlider(value=5, description=…"
      ]
     },
     "metadata": {},
     "output_type": "display_data"
    }
   ],
   "source": [
    "def show_next_grid(n_rows, n_columns):\n",
    "    grid = Image.new('L', (n_columns * 28, n_rows * 28))\n",
    "    for column in range(n_columns):\n",
    "        for row in range(n_rows):\n",
    "            grid.paste(next(predictions)['image'], (column * 28, row * 28))\n",
    "    return grid\n",
    "\n",
    "interact_manual(show_next_grid, n_rows=(1, 10), n_columns=(1, 10));"
   ]
  }
 ],
 "metadata": {
  "kernelspec": {
   "display_name": "Python 3",
   "language": "python",
   "name": "python3"
  },
  "language_info": {
   "codemirror_mode": {
    "name": "ipython",
    "version": 3
   },
   "file_extension": ".py",
   "mimetype": "text/x-python",
   "name": "python",
   "nbconvert_exporter": "python",
   "pygments_lexer": "ipython3",
   "version": "3.6.4"
  }
 },
 "nbformat": 4,
 "nbformat_minor": 2
}

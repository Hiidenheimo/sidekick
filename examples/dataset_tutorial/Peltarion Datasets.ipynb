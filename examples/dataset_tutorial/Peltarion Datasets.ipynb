{
 "cells": [
  {
   "cell_type": "markdown",
   "metadata": {},
   "source": [
    "# Creating Image Dataset for Peltarion Platform\n",
    "\n",
    "This Jupyter notebook will guide you through the process of creating your own Peltarion compatible image dataset."
   ]
  },
  {
   "cell_type": "markdown",
   "metadata": {},
   "source": [
    "## 1. Data and Folder Structure\n",
    "\n",
    "Below you can see the required folder structure for your data. The images should be divided into subfolders, where the name of the subfolder works as the category for the images. \n",
    "\n",
    "Create __your own__ dataset with the following folder structure and save the path to the data folder for future use.\n",
    "\n",
    "<img src=\"data_folder.png\" alt=\"Data folder structure\" title=\"Data folder structure\" />"
   ]
  },
  {
   "cell_type": "markdown",
   "metadata": {},
   "source": [
    "## 2. Load Dependencies"
   ]
  },
  {
   "cell_type": "code",
   "execution_count": 18,
   "metadata": {},
   "outputs": [],
   "source": [
    "import os\n",
    "import pandas as pd\n",
    "import functools\n",
    "import sidekick\n",
    "from glob import glob\n",
    "from PIL import Image"
   ]
  },
  {
   "cell_type": "markdown",
   "metadata": {},
   "source": [
    "## 3. Dataset Paths\n",
    "\n",
    "Set the __full__ path of your data folder and the __full__ path of ZIP-file including the name of the ZIP-file to be created."
   ]
  },
  {
   "cell_type": "code",
   "execution_count": 19,
   "metadata": {},
   "outputs": [],
   "source": [
    "# Path to the dataset\n",
    "input_path = 'example_data/'  ##TODO\n",
    "os.chdir(os.getcwd())\n",
    "\n",
    "# Path to the zip output\n",
    "output_path = os.getcwd() + 'dataset.zip'  ##TODO"
   ]
  },
  {
   "cell_type": "markdown",
   "metadata": {},
   "source": [
    "## 4. Save Image Paths\n",
    "\n",
    "Save __relative__ image paths to a list."
   ]
  },
  {
   "cell_type": "code",
   "execution_count": 20,
   "metadata": {},
   "outputs": [
    {
     "name": "stdout",
     "output_type": "stream",
     "text": [
      "Images found:  30\n"
     ]
    }
   ],
   "source": [
    "images_rel_path = glob(os.path.join('*', '*.jpg')) + glob(os.path.join('*', '*.png'))\n",
    "print(\"Images found: \", len(images_rel_path))"
   ]
  },
  {
   "cell_type": "markdown",
   "metadata": {},
   "source": [
    "## 5. Create Pandas Dataframe\n",
    "\n",
    "Dataframe has two columns: category and the __relative__ image path. The category is derived from the names of the subfolders."
   ]
  },
  {
   "cell_type": "code",
   "execution_count": 21,
   "metadata": {},
   "outputs": [
    {
     "name": "stdout",
     "output_type": "stream",
     "text": [
      "Dataframe has classes: ['oranges' 'apples']\n"
     ]
    }
   ],
   "source": [
    "df = pd.DataFrame({'image': images_rel_path})\n",
    "df['class'] = df['image'].apply(lambda path: os.path.basename(os.path.dirname(path)))\n",
    "\n",
    "##Check Dataframe\n",
    "print(\"Dataframe has classes:\", df['class'].unique())"
   ]
  },
  {
   "cell_type": "markdown",
   "metadata": {},
   "source": [
    "## 6. Validate Dataframe\n",
    "\n",
    "Validate that the format for __all__ the pictures is the same eg. RGB."
   ]
  },
  {
   "cell_type": "code",
   "execution_count": 22,
   "metadata": {},
   "outputs": [
    {
     "name": "stdout",
     "output_type": "stream",
     "text": [
      "Image mode: RGB    30\n",
      "Name: image_mode, dtype: int64\n"
     ]
    }
   ],
   "source": [
    "def get_mode(path):\n",
    "    im = Image.open(path)\n",
    "    im.close()\n",
    "    return im.mode\n",
    "\n",
    "df['image_mode'] = df['image'].apply(lambda path: get_mode(path))\n",
    "print(\"Image mode:\", df['image_mode'].value_counts())\n",
    "\n",
    "if len(df['image_mode'].unique()) > 1:\n",
    "    print(\"Dataset contains more than one color model\")\n",
    "\n",
    "df = df.drop(['image_mode'], axis=1)"
   ]
  },
  {
   "cell_type": "markdown",
   "metadata": {},
   "source": [
    "## 7. Create the Peltarion Dataset Bundle\n",
    "\n",
    "Create Peltarion datataset bundle using [Sidekick](https://github.com/Peltarion/sidekick), a helper tool for creating Peltarion platform compatible datasets."
   ]
  },
  {
   "cell_type": "code",
   "execution_count": 23,
   "metadata": {},
   "outputs": [],
   "source": [
    "'''\n",
    "Available modes:\n",
    "- crop_and_resize\n",
    "- center_crop_or_pad\n",
    "- resize_image\n",
    "'''\n",
    "image_processor = functools.partial(sidekick.process_image, mode='crop_and_resize', size=(100, 100), file_format='png')\n",
    "sidekick.create_dataset(\n",
    "    output_path,\n",
    "    df,\n",
    "    path_columns=['image'],\n",
    "    preprocess={\n",
    "        'image': image_processor\n",
    "    }\n",
    ")"
   ]
  },
  {
   "cell_type": "markdown",
   "metadata": {},
   "source": [
    "## 8. Peltarion Platform Format\n",
    "\n",
    "Now you can upload the ZIP-file created by Sidekick to the Peltarion platform and start deep learning.\n",
    "\n",
    "<img src=\"zip_folder.png\" alt=\"Peltarion Dataset Structure\" title=\"Dataset Structure\" />\n",
    "\n",
    "File structure for Peltarion platform."
   ]
  },
  {
   "cell_type": "markdown",
   "metadata": {},
   "source": [
    "## 9. Uploading the ZIP-file to the Peltarion Platform\n",
    "\n",
    "Now you can upload your ZIP-file to [Peltarion platform](https://platform.peltarion.com)."
   ]
  }
 ],
 "metadata": {
  "kernelspec": {
   "display_name": "Python 3",
   "language": "python",
   "name": "python3"
  },
  "language_info": {
   "codemirror_mode": {
    "name": "ipython",
    "version": 3
   },
   "file_extension": ".py",
   "mimetype": "text/x-python",
   "name": "python",
   "nbconvert_exporter": "python",
   "pygments_lexer": "ipython3",
   "version": "3.6.8"
  }
 },
 "nbformat": 4,
 "nbformat_minor": 2
}
